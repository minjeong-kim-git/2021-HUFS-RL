{
  "cells": [
    {
      "cell_type": "markdown",
      "metadata": {
        "id": "view-in-github",
        "colab_type": "text"
      },
      "source": [
        "<a href=\"https://colab.research.google.com/github/minjeong-kim-git/HUFS-RL-2022/blob/main/Day%2002/actor_critic.ipynb\" target=\"_parent\"><img src=\"https://colab.research.google.com/assets/colab-badge.svg\" alt=\"Open In Colab\"/></a>"
      ]
    },
    {
      "cell_type": "markdown",
      "metadata": {
        "id": "_jQ1tEQCxwRx"
      },
      "source": [
        "##### Copyright 2020 The TensorFlow Authors."
      ]
    },
    {
      "cell_type": "code",
      "execution_count": 1,
      "metadata": {
        "id": "V_sgB_5dx1f1"
      },
      "outputs": [],
      "source": [
        "#@title Licensed under the Apache License, Version 2.0 (the \"License\");\n",
        "# you may not use this file except in compliance with the License.\n",
        "# You may obtain a copy of the License at\n",
        "#\n",
        "# https://www.apache.org/licenses/LICENSE-2.0\n",
        "#\n",
        "# Unless required by applicable law or agreed to in writing, software\n",
        "# distributed under the License is distributed on an \"AS IS\" BASIS,\n",
        "# WITHOUT WARRANTIES OR CONDITIONS OF ANY KIND, either express or implied.\n",
        "# See the License for the specific language governing permissions and\n",
        "# limitations under the License."
      ]
    },
    {
      "cell_type": "markdown",
      "metadata": {
        "id": "p62G8M_viUJp"
      },
      "source": [
        "# Playing CartPole with the Actor-Critic Method\n"
      ]
    },
    {
      "cell_type": "markdown",
      "metadata": {
        "id": "-mJ2i6jvZ3sK"
      },
      "source": [
        "<table class=\"tfo-notebook-buttons\" align=\"left\">\n",
        "  <td>\n",
        "    <a target=\"_blank\" href=\"https://www.tensorflow.org/tutorials/reinforcement_learning/actor_critic\">\n",
        "    <img src=\"https://www.tensorflow.org/images/tf_logo_32px.png\" />\n",
        "    View on TensorFlow.org</a>\n",
        "  </td>\n",
        "  <td>\n",
        "    <a target=\"_blank\" href=\"https://colab.research.google.com/github/tensorflow/docs/blob/master/site/en/tutorials/reinforcement_learning/actor_critic.ipynb\">\n",
        "    <img src=\"https://www.tensorflow.org/images/colab_logo_32px.png\" />\n",
        "    Run in Google Colab</a>\n",
        "  </td>\n",
        "  <td>\n",
        "    <a target=\"_blank\" href=\"https://github.com/tensorflow/docs/blob/master/site/en/tutorials/reinforcement_learning/actor_critic.ipynb\">\n",
        "    <img src=\"https://www.tensorflow.org/images/GitHub-Mark-32px.png\" />\n",
        "    View source on GitHub</a>\n",
        "  </td>\n",
        "  <td>\n",
        "    <a href=\"https://storage.googleapis.com/tensorflow_docs/docs/site/en/tutorials/reinforcement_learning/actor_critic.ipynb\"><img src=\"https://www.tensorflow.org/images/download_logo_32px.png\" />Download notebook</a>\n",
        "  </td>\n",
        "</table>"
      ]
    },
    {
      "cell_type": "markdown",
      "metadata": {
        "id": "kFgN7h_wiUJq"
      },
      "source": [
        "This tutorial demonstrates how to implement the [Actor-Critic](https://papers.nips.cc/paper/1786-actor-critic-algorithms.pdf) method using TensorFlow to train an agent on the [Open AI Gym](https://gym.openai.com/) CartPole-V0 environment.\n",
        "The reader is assumed to have some familiarity with [policy gradient methods](https://papers.nips.cc/paper/1713-policy-gradient-methods-for-reinforcement-learning-with-function-approximation.pdf) of reinforcement learning. \n"
      ]
    },
    {
      "cell_type": "markdown",
      "metadata": {
        "id": "_kA10ZKRR0hi"
      },
      "source": [
        "**Actor-Critic methods**\n",
        "\n",
        "Actor-Critic methods are [temporal difference (TD) learning](https://en.wikipedia.org/wiki/Temporal_difference_learning) methods that represent the policy function independent of the value function. \n",
        "\n",
        "A policy function (or policy) returns a probability distribution over actions that the agent can take based on the given state.\n",
        "A value function determines the expected return for an agent starting at a given state and acting according to a particular policy forever after.\n",
        "\n",
        "In the Actor-Critic method, the policy is referred to as the *actor* that proposes a set of possible actions given a state, and the estimated value function is referred to as the *critic*, which evaluates actions taken by the *actor* based on the given policy.\n",
        "\n",
        "In this tutorial, both the *Actor* and *Critic* will be represented using one neural network with two outputs.\n"
      ]
    },
    {
      "cell_type": "markdown",
      "metadata": {
        "id": "rBfiafKSRs2k"
      },
      "source": [
        "**CartPole-v0**\n",
        "\n",
        "In the [CartPole-v0 environment](https://gym.openai.com/envs/CartPole-v0), a pole is attached to a cart moving along a frictionless track. \n",
        "The pole starts upright and the goal of the agent is to prevent it from falling over by applying a force of -1 or +1 to the cart. \n",
        "A reward of +1 is given for every time step the pole remains upright.\n",
        "An episode ends when (1) the pole is more than 15 degrees from vertical or (2) the cart moves more than 2.4 units from the center.\n",
        "\n",
        "<center>\n",
        "  <figure>\n",
        "    <image src=\"https://github.com/tensorflow/docs/blob/master/site/en/tutorials/reinforcement_learning/images/cartpole-v0.gif?raw=1\">\n",
        "    <figcaption>\n",
        "      Trained actor-critic model in Cartpole-v0 environment\n",
        "    </figcaption>\n",
        "  </figure>\n",
        "</center>\n"
      ]
    },
    {
      "cell_type": "markdown",
      "metadata": {
        "id": "XSNVK0AeRoJd"
      },
      "source": [
        "The problem is considered \"solved\" when the average total reward for the episode reaches 195 over 100 consecutive trials."
      ]
    },
    {
      "cell_type": "markdown",
      "metadata": {
        "id": "glLwIctHiUJq"
      },
      "source": [
        "## Setup\n",
        "\n",
        "Import necessary packages and configure global settings.\n"
      ]
    },
    {
      "cell_type": "code",
      "execution_count": 2,
      "metadata": {
        "id": "13l6BbxKhCKp",
        "outputId": "a508de70-1185-4227-9ee0-cf6a7a6efb48",
        "colab": {
          "base_uri": "https://localhost:8080/"
        }
      },
      "outputs": [
        {
          "output_type": "stream",
          "name": "stdout",
          "text": [
            "Requirement already satisfied: gym in /usr/local/lib/python3.7/dist-packages (0.17.3)\n",
            "Requirement already satisfied: cloudpickle<1.7.0,>=1.2.0 in /usr/local/lib/python3.7/dist-packages (from gym) (1.3.0)\n",
            "Requirement already satisfied: numpy>=1.10.4 in /usr/local/lib/python3.7/dist-packages (from gym) (1.19.5)\n",
            "Requirement already satisfied: pyglet<=1.5.0,>=1.4.0 in /usr/local/lib/python3.7/dist-packages (from gym) (1.5.0)\n",
            "Requirement already satisfied: scipy in /usr/local/lib/python3.7/dist-packages (from gym) (1.4.1)\n",
            "Requirement already satisfied: future in /usr/local/lib/python3.7/dist-packages (from pyglet<=1.5.0,>=1.4.0->gym) (0.16.0)\n",
            "Requirement already satisfied: pyglet in /usr/local/lib/python3.7/dist-packages (1.5.0)\n",
            "Requirement already satisfied: future in /usr/local/lib/python3.7/dist-packages (from pyglet) (0.16.0)\n"
          ]
        }
      ],
      "source": [
        "!pip install gym\n",
        "!pip install pyglet"
      ]
    },
    {
      "cell_type": "code",
      "execution_count": 3,
      "metadata": {
        "id": "WBeQhPi2S4m5"
      },
      "outputs": [],
      "source": [
        "%%bash\n",
        "# Install additional packages for visualization\n",
        "sudo apt-get install -y xvfb python-opengl > /dev/null 2>&1\n",
        "pip install pyvirtualdisplay > /dev/null 2>&1\n",
        "pip install git+https://github.com/tensorflow/docs > /dev/null 2>&1"
      ]
    },
    {
      "cell_type": "code",
      "execution_count": 4,
      "metadata": {
        "id": "tT4N3qYviUJr"
      },
      "outputs": [],
      "source": [
        "import collections\n",
        "import gym\n",
        "import numpy as np\n",
        "import statistics\n",
        "import tensorflow as tf\n",
        "import tqdm\n",
        "\n",
        "from matplotlib import pyplot as plt\n",
        "from tensorflow.keras import layers\n",
        "from typing import Any, List, Sequence, Tuple\n",
        "\n",
        "\n",
        "# Create the environment\n",
        "env = gym.make(\"CartPole-v0\")\n",
        "\n",
        "# Set seed for experiment reproducibility\n",
        "seed = 42\n",
        "env.seed(seed)\n",
        "tf.random.set_seed(seed)\n",
        "np.random.seed(seed)\n",
        "\n",
        "# Small epsilon value for stabilizing division operations\n",
        "eps = np.finfo(np.float32).eps.item()"
      ]
    },
    {
      "cell_type": "markdown",
      "metadata": {
        "id": "AOUCe2D0iUJu"
      },
      "source": [
        "## Model\n",
        "\n",
        "The *Actor* and *Critic* will be modeled using one neural network that generates the action probabilities and critic value respectively. This tutorial uses model subclassing to define the model. \n",
        "\n",
        "During the forward pass, the model will take in the state as the input and will output both action probabilities and critic value $V$, which models the state-dependent [value function](https://spinningup.openai.com/en/latest/spinningup/rl_intro.html#value-functions). The goal is to train a model that chooses actions based on a policy $\\pi$ that maximizes expected [return](https://spinningup.openai.com/en/latest/spinningup/rl_intro.html#reward-and-return).\n",
        "\n",
        "For Cartpole-v0, there are four values representing the state: cart position, cart-velocity, pole angle and pole velocity respectively. The agent can take two actions to push the cart left (0) and right (1) respectively.\n",
        "\n",
        "Refer to [OpenAI Gym's CartPole-v0 wiki page](http://www.derongliu.org/adp/adp-cdrom/Barto1983.pdf) for more information.\n"
      ]
    },
    {
      "cell_type": "code",
      "execution_count": 5,
      "metadata": {
        "id": "aXKbbMC-kmuv"
      },
      "outputs": [],
      "source": [
        "class ActorCritic(tf.keras.Model):\n",
        "  \"\"\"Combined actor-critic network.\"\"\"\n",
        "\n",
        "  def __init__(\n",
        "      self, \n",
        "      num_actions: int, \n",
        "      num_hidden_units: int):\n",
        "    \"\"\"Initialize.\"\"\"\n",
        "    super().__init__()\n",
        "\n",
        "    self.common = layers.Dense(num_hidden_units, activation=\"relu\")\n",
        "    self.actor = layers.Dense(num_actions)\n",
        "    self.critic = layers.Dense(1)\n",
        "\n",
        "  def call(self, inputs: tf.Tensor) -> Tuple[tf.Tensor, tf.Tensor]:\n",
        "    x = self.common(inputs)\n",
        "    return self.actor(x), self.critic(x)"
      ]
    },
    {
      "cell_type": "code",
      "execution_count": 6,
      "metadata": {
        "id": "nWyxJgjLn68c"
      },
      "outputs": [],
      "source": [
        "num_actions = env.action_space.n  # 2\n",
        "num_hidden_units = 128\n",
        "\n",
        "model = ActorCritic(num_actions, num_hidden_units)"
      ]
    },
    {
      "cell_type": "markdown",
      "metadata": {
        "id": "hk92njFziUJw"
      },
      "source": [
        "## Training\n",
        "\n",
        "To train the agent, you will follow these steps:\n",
        "\n",
        "1. Run the agent on the environment to collect training data per episode.\n",
        "2. Compute expected return at each time step.\n",
        "3. Compute the loss for the combined actor-critic model.\n",
        "4. Compute gradients and update network parameters.\n",
        "5. Repeat 1-4 until either success criterion or max episodes has been reached.\n"
      ]
    },
    {
      "cell_type": "markdown",
      "metadata": {
        "id": "R2nde2XDs8Gh"
      },
      "source": [
        "### 1. Collecting training data\n",
        "\n",
        "As in supervised learning, in order to train the actor-critic model, you need\n",
        "to have training data. However, in order to collect such data, the model would\n",
        "need to be \"run\" in the environment.\n",
        "\n",
        "Training data is collected for each episode. Then at each time step, the model's forward pass will be run on the environment's state in order to generate action probabilities and the critic value based on the current policy parameterized by the model's weights.\n",
        "\n",
        "The next action will be sampled from the action probabilities generated by the model, which would then be applied to the environment, causing the next state and reward to be generated.\n",
        "\n",
        "This process is implemented in the `run_episode` function, which uses TensorFlow operations so that it can later be compiled into a TensorFlow graph for faster training. Note that `tf.TensorArray`s were used to support Tensor iteration on variable length arrays."
      ]
    },
    {
      "cell_type": "code",
      "execution_count": 7,
      "metadata": {
        "id": "5URrbGlDSAGx"
      },
      "outputs": [],
      "source": [
        "# Wrap OpenAI Gym's `env.step` call as an operation in a TensorFlow function.\n",
        "# This would allow it to be included in a callable TensorFlow graph.\n",
        "\n",
        "def env_step(action: np.ndarray) -> Tuple[np.ndarray, np.ndarray, np.ndarray]:\n",
        "  \"\"\"Returns state, reward and done flag given an action.\"\"\"\n",
        "\n",
        "  state, reward, done, _ = env.step(action)\n",
        "  return (state.astype(np.float32), \n",
        "          np.array(reward, np.int32), \n",
        "          np.array(done, np.int32))\n",
        "\n",
        "\n",
        "def tf_env_step(action: tf.Tensor) -> List[tf.Tensor]:\n",
        "  return tf.numpy_function(env_step, [action], \n",
        "                           [tf.float32, tf.int32, tf.int32])"
      ]
    },
    {
      "cell_type": "code",
      "execution_count": 8,
      "metadata": {
        "id": "a4qVRV063Cl9"
      },
      "outputs": [],
      "source": [
        "def run_episode(\n",
        "    initial_state: tf.Tensor,  \n",
        "    model: tf.keras.Model, \n",
        "    max_steps: int) -> Tuple[tf.Tensor, tf.Tensor, tf.Tensor]:\n",
        "  \"\"\"Runs a single episode to collect training data.\"\"\"\n",
        "\n",
        "  action_probs = tf.TensorArray(dtype=tf.float32, size=0, dynamic_size=True)\n",
        "  values = tf.TensorArray(dtype=tf.float32, size=0, dynamic_size=True)\n",
        "  rewards = tf.TensorArray(dtype=tf.int32, size=0, dynamic_size=True)\n",
        "\n",
        "  initial_state_shape = initial_state.shape\n",
        "  state = initial_state\n",
        "\n",
        "  for t in tf.range(max_steps):\n",
        "    # Convert state into a batched tensor (batch size = 1)\n",
        "    state = tf.expand_dims(state, 0)\n",
        "  \n",
        "    # Run the model and to get action probabilities and critic value\n",
        "    action_logits_t, value = model(state)\n",
        "  \n",
        "    # Sample next action from the action probability distribution\n",
        "    action = tf.random.categorical(action_logits_t, 1)[0, 0]\n",
        "    action_probs_t = tf.nn.softmax(action_logits_t)\n",
        "\n",
        "    # Store critic values\n",
        "    values = values.write(t, tf.squeeze(value))\n",
        "\n",
        "    # Store log probability of the action chosen\n",
        "    action_probs = action_probs.write(t, action_probs_t[0, action])\n",
        "  \n",
        "    # Apply action to the environment to get next state and reward\n",
        "    state, reward, done = tf_env_step(action)\n",
        "    state.set_shape(initial_state_shape)\n",
        "  \n",
        "    # Store reward\n",
        "    rewards = rewards.write(t, reward)\n",
        "\n",
        "    if tf.cast(done, tf.bool):\n",
        "      break\n",
        "\n",
        "  action_probs = action_probs.stack()\n",
        "  values = values.stack()\n",
        "  rewards = rewards.stack()\n",
        "  \n",
        "  return action_probs, values, rewards"
      ]
    },
    {
      "cell_type": "markdown",
      "metadata": {
        "id": "lBnIHdz22dIx"
      },
      "source": [
        "### 2. Computing expected returns\n",
        "\n",
        "The sequence of rewards for each timestep $t$, $\\{r_{t}\\}^{T}_{t=1}$ collected during one episode is converted into a sequence of expected returns $\\{G_{t}\\}^{T}_{t=1}$ in which the sum of rewards is taken from the current timestep $t$ to $T$ and each reward is multiplied with an exponentially decaying discount factor $\\gamma$:\n",
        "\n",
        "$$G_{t} = \\sum^{T}_{t'=t} \\gamma^{t'-t}r_{t'}$$\n",
        "\n",
        "Since $\\gamma\\in(0,1)$, rewards further out from the current timestep are given less weight.\n",
        "\n",
        "Intuitively, expected return simply implies that rewards now are better than rewards later. In a mathematical sense, it is to ensure that the sum of the rewards converges.\n",
        "\n",
        "To stabilize training, the resulting sequence of returns is also standardized (i.e. to have zero mean and unit standard deviation).\n"
      ]
    },
    {
      "cell_type": "code",
      "execution_count": 9,
      "metadata": {
        "id": "jpEwFyl315dl"
      },
      "outputs": [],
      "source": [
        "def get_expected_return(\n",
        "    rewards: tf.Tensor, \n",
        "    gamma: float, \n",
        "    standardize: bool = True) -> tf.Tensor:\n",
        "  \"\"\"Compute expected returns per timestep.\"\"\"\n",
        "\n",
        "  n = tf.shape(rewards)[0]\n",
        "  returns = tf.TensorArray(dtype=tf.float32, size=n)\n",
        "\n",
        "  # Start from the end of `rewards` and accumulate reward sums\n",
        "  # into the `returns` array\n",
        "  rewards = tf.cast(rewards[::-1], dtype=tf.float32)\n",
        "  discounted_sum = tf.constant(0.0)\n",
        "  discounted_sum_shape = discounted_sum.shape\n",
        "  for i in tf.range(n):\n",
        "    reward = rewards[i]\n",
        "    discounted_sum = reward + gamma * discounted_sum\n",
        "    discounted_sum.set_shape(discounted_sum_shape)\n",
        "    returns = returns.write(i, discounted_sum)\n",
        "  returns = returns.stack()[::-1]\n",
        "\n",
        "  if standardize:\n",
        "    returns = ((returns - tf.math.reduce_mean(returns)) / \n",
        "               (tf.math.reduce_std(returns) + eps))\n",
        "\n",
        "  return returns"
      ]
    },
    {
      "cell_type": "markdown",
      "metadata": {
        "id": "1hrPLrgGxlvb"
      },
      "source": [
        "### 3. The actor-critic loss\n",
        "\n",
        "Since a hybrid actor-critic model is used, the chosen loss function is a combination of actor and critic losses for training, as shown below:\n",
        "\n",
        "$$L = L_{actor} + L_{critic}$$\n",
        "\n",
        "#### Actor loss\n",
        "\n",
        "The actor loss is based on [policy gradients with the critic as a state dependent baseline](https://www.youtube.com/watch?v=EKqxumCuAAY&t=62m23s) and computed with single-sample (per-episode) estimates.\n",
        "\n",
        "$$L_{actor} = -\\sum^{T}_{t=1} \\log\\pi_{\\theta}(a_{t} | s_{t})[G(s_{t}, a_{t})  - V^{\\pi}_{\\theta}(s_{t})]$$\n",
        "\n",
        "where:\n",
        "- $T$: the number of timesteps per episode, which can vary per episode\n",
        "- $s_{t}$: the state at timestep $t$\n",
        "- $a_{t}$: chosen action at timestep $t$ given state $s$\n",
        "- $\\pi_{\\theta}$: is the policy (actor) parameterized by $\\theta$\n",
        "- $V^{\\pi}_{\\theta}$: is the value function (critic) also parameterized by $\\theta$\n",
        "- $G = G_{t}$: the expected return for a given state, action pair at timestep $t$\n",
        "\n",
        "A negative term is added to the sum since the idea is to maximize the probabilities of actions yielding higher rewards by minimizing the combined loss.\n",
        "\n",
        "<br>\n",
        "\n",
        "##### Advantage\n",
        "\n",
        "The $G - V$ term in our $L_{actor}$ formulation is called the [advantage](https://spinningup.openai.com/en/latest/spinningup/rl_intro.html#advantage-functions), which indicates how much better an action is given a particular state over a random action selected according to the policy $\\pi$ for that state.\n",
        "\n",
        "While it's possible to exclude a baseline, this may result in high variance during training. And the nice thing about choosing the critic $V$ as a baseline is that it trained to be as close as possible to $G$, leading to a lower variance.\n",
        "\n",
        "In addition, without the critic, the algorithm would try to increase probabilities for actions taken on a particular state based on expected return, which may not make much of a difference if the relative probabilities between actions remain the same.\n",
        "\n",
        "For instance, suppose that two actions for a given state would yield the same expected return. Without the critic, the algorithm would try to raise the probability of these actions based on the objective $J$. With the critic, it may turn out that there's no advantage ($G - V = 0$) and thus no benefit gained in increasing the actions' probabilities and the algorithm would set the gradients to zero.\n",
        "\n",
        "<br>\n",
        "\n",
        "#### Critic loss\n",
        "\n",
        "Training $V$ to be as close possible to $G$ can be set up as a regression problem with the following loss function:\n",
        "\n",
        "$$L_{critic} = L_{\\delta}(G, V^{\\pi}_{\\theta})$$\n",
        "\n",
        "where $L_{\\delta}$ is the [Huber loss](https://en.wikipedia.org/wiki/Huber_loss), which is less sensitive to outliers in data than squared-error loss.\n"
      ]
    },
    {
      "cell_type": "code",
      "execution_count": 10,
      "metadata": {
        "id": "9EXwbEez6n9m"
      },
      "outputs": [],
      "source": [
        "huber_loss = tf.keras.losses.Huber(reduction=tf.keras.losses.Reduction.SUM)\n",
        "\n",
        "def compute_loss(\n",
        "    action_probs: tf.Tensor,  \n",
        "    values: tf.Tensor,  \n",
        "    returns: tf.Tensor) -> tf.Tensor:\n",
        "  \"\"\"Computes the combined actor-critic loss.\"\"\"\n",
        "\n",
        "  advantage = returns - values\n",
        "\n",
        "  action_log_probs = tf.math.log(action_probs)\n",
        "  actor_loss = -tf.math.reduce_sum(action_log_probs * advantage)\n",
        "\n",
        "  critic_loss = huber_loss(values, returns)\n",
        "\n",
        "  return actor_loss + critic_loss"
      ]
    },
    {
      "cell_type": "markdown",
      "metadata": {
        "id": "HSYkQOmRfV75"
      },
      "source": [
        "### 4. Defining the training step to update parameters\n",
        "\n",
        "All of the steps above are combined into a training step that is run every episode. All steps leading up to the loss function are executed with the `tf.GradientTape` context to enable automatic differentiation.\n",
        "\n",
        "This tutorial uses the Adam optimizer to apply the gradients to the model parameters.\n",
        "\n",
        "The sum of the undiscounted rewards, `episode_reward`, is also computed in this step. This value will be used later on to evaluate if the success criterion is met.\n",
        "\n",
        "The `tf.function` context is applied to the `train_step` function so that it can be compiled into a callable TensorFlow graph, which can lead to 10x speedup in training.\n"
      ]
    },
    {
      "cell_type": "code",
      "execution_count": 11,
      "metadata": {
        "id": "QoccrkF3IFCg"
      },
      "outputs": [],
      "source": [
        "optimizer = tf.keras.optimizers.Adam(learning_rate=0.01)\n",
        "\n",
        "\n",
        "@tf.function\n",
        "def train_step(\n",
        "    initial_state: tf.Tensor, \n",
        "    model: tf.keras.Model, \n",
        "    optimizer: tf.keras.optimizers.Optimizer, \n",
        "    gamma: float, \n",
        "    max_steps_per_episode: int) -> tf.Tensor:\n",
        "  \"\"\"Runs a model training step.\"\"\"\n",
        "\n",
        "  with tf.GradientTape() as tape:\n",
        "\n",
        "    # Run the model for one episode to collect training data\n",
        "    action_probs, values, rewards = run_episode(\n",
        "        initial_state, model, max_steps_per_episode) \n",
        "\n",
        "    # Calculate expected returns\n",
        "    returns = get_expected_return(rewards, gamma)\n",
        "\n",
        "    # Convert training data to appropriate TF tensor shapes\n",
        "    action_probs, values, returns = [\n",
        "        tf.expand_dims(x, 1) for x in [action_probs, values, returns]] \n",
        "\n",
        "    # Calculating loss values to update our network\n",
        "    loss = compute_loss(action_probs, values, returns)\n",
        "\n",
        "  # Compute the gradients from the loss\n",
        "  grads = tape.gradient(loss, model.trainable_variables)\n",
        "\n",
        "  # Apply the gradients to the model's parameters\n",
        "  optimizer.apply_gradients(zip(grads, model.trainable_variables))\n",
        "\n",
        "  episode_reward = tf.math.reduce_sum(rewards)\n",
        "\n",
        "  return episode_reward"
      ]
    },
    {
      "cell_type": "markdown",
      "metadata": {
        "id": "HFvZiDoAflGK"
      },
      "source": [
        "### 5. Run the training loop\n",
        "\n",
        "Training is executed by running the training step until either the success criterion or maximum number of episodes is reached.  \n",
        "\n",
        "A running record of episode rewards is kept in a queue. Once 100 trials are reached, the oldest reward is removed at the left (tail) end of the queue and the newest one is added at the head (right). A running sum of the rewards is also maintained for computational efficiency. \n",
        "\n",
        "Depending on your runtime, training can finish in less than a minute."
      ]
    },
    {
      "cell_type": "code",
      "execution_count": 12,
      "metadata": {
        "id": "kbmBxnzLiUJx",
        "outputId": "d26aca93-b0dd-4659-e95d-85eda83d72bb",
        "colab": {
          "base_uri": "https://localhost:8080/"
        }
      },
      "outputs": [
        {
          "output_type": "stream",
          "name": "stderr",
          "text": [
            "Episode 0: 100%|██████████| 1/1 [00:03<00:00,  3.42s/it, episode_reward=40, running_reward=40]"
          ]
        },
        {
          "output_type": "stream",
          "name": "stdout",
          "text": [
            "\n",
            "Solved at episode 0: average reward: 40.00!\n",
            "CPU times: user 2.11 s, sys: 312 ms, total: 2.42 s\n",
            "Wall time: 3.42 s\n"
          ]
        },
        {
          "output_type": "stream",
          "name": "stderr",
          "text": [
            "\n"
          ]
        }
      ],
      "source": [
        "%%time\n",
        "\n",
        "min_episodes_criterion = 100\n",
        "max_episodes = 1\n",
        "max_steps_per_episode = 1000\n",
        "\n",
        "# Cartpole-v0 is considered solved if average reward is >= 195 over 100 \n",
        "# consecutive trials\n",
        "reward_threshold = 195\n",
        "running_reward = 0\n",
        "\n",
        "# Discount factor for future rewards\n",
        "gamma = 0.99\n",
        "\n",
        "# Keep last episodes reward\n",
        "episodes_reward: collections.deque = collections.deque(maxlen=min_episodes_criterion)\n",
        "\n",
        "with tqdm.trange(max_episodes) as t:\n",
        "  for i in t:\n",
        "    initial_state = tf.constant(env.reset(), dtype=tf.float32)\n",
        "    episode_reward = int(train_step(\n",
        "        initial_state, model, optimizer, gamma, max_steps_per_episode))\n",
        "    \n",
        "    episodes_reward.append(episode_reward)\n",
        "    running_reward = statistics.mean(episodes_reward)\n",
        "  \n",
        "    t.set_description(f'Episode {i}')\n",
        "    t.set_postfix(\n",
        "        episode_reward=episode_reward, running_reward=running_reward)\n",
        "  \n",
        "    # Show average episode reward every 10 episodes\n",
        "    if i % 10 == 0:\n",
        "      pass # print(f'Episode {i}: average reward: {avg_reward}')\n",
        "  \n",
        "    if running_reward > reward_threshold and i >= min_episodes_criterion:  \n",
        "        break\n",
        "\n",
        "print(f'\\nSolved at episode {i}: average reward: {running_reward:.2f}!')"
      ]
    },
    {
      "cell_type": "markdown",
      "metadata": {
        "id": "ru8BEwS1EmAv"
      },
      "source": [
        "## Visualization\n",
        "\n",
        "After training, it would be good to visualize how the model performs in the environment. You can run the cells below to generate a GIF animation of one episode run of the model. Note that additional packages need to be installed for OpenAI Gym to render the environment's images correctly in Colab."
      ]
    },
    {
      "cell_type": "code",
      "execution_count": 13,
      "metadata": {
        "id": "qbIMMkfmRHyC"
      },
      "outputs": [],
      "source": [
        "# Render an episode and save as a GIF file\n",
        "\n",
        "from IPython import display as ipythondisplay\n",
        "from PIL import Image\n",
        "from pyvirtualdisplay import Display\n",
        "\n",
        "\n",
        "display = Display(visible=0, size=(400, 300))\n",
        "display.start()\n",
        "\n",
        "\n",
        "def render_episode(env: gym.Env, model: tf.keras.Model, max_steps: int): \n",
        "  screen = env.render(mode='rgb_array')\n",
        "  im = Image.fromarray(screen)\n",
        "\n",
        "  images = [im]\n",
        "  \n",
        "  state = tf.constant(env.reset(), dtype=tf.float32)\n",
        "  for i in range(1, max_steps + 1):\n",
        "    state = tf.expand_dims(state, 0)\n",
        "    action_probs, _ = model(state)\n",
        "    action = np.argmax(np.squeeze(action_probs))\n",
        "\n",
        "    state, _, done, _ = env.step(action)\n",
        "    state = tf.constant(state, dtype=tf.float32)\n",
        "\n",
        "    # Render screen every 10 steps\n",
        "    if i % 10 == 0:\n",
        "      screen = env.render(mode='rgb_array')\n",
        "      images.append(Image.fromarray(screen))\n",
        "  \n",
        "    if done:\n",
        "      break\n",
        "  \n",
        "  return images\n",
        "\n",
        "\n",
        "# Save GIF image\n",
        "images = render_episode(env, model, max_steps_per_episode)\n",
        "image_file = 'cartpole-v0.gif'\n",
        "# loop=0: loop forever, duration=1: play each frame for 1ms\n",
        "images[0].save(\n",
        "    image_file, save_all=True, append_images=images[1:], loop=0, duration=1)"
      ]
    },
    {
      "cell_type": "code",
      "execution_count": 14,
      "metadata": {
        "id": "TLd720SejKmf",
        "outputId": "01a522e9-950f-41b8-c525-ef80c8104933",
        "colab": {
          "base_uri": "https://localhost:8080/",
          "height": 420
        }
      },
      "outputs": [
        {
          "output_type": "execute_result",
          "data": {
            "text/html": [
              "<img src=\"data:image/gif;base64,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\"/>"
            ],
            "text/plain": [
              "<IPython.core.display.HTML object>"
            ]
          },
          "metadata": {},
          "execution_count": 14
        }
      ],
      "source": [
        "import tensorflow_docs.vis.embed as embed\n",
        "embed.embed_file(image_file)"
      ]
    },
    {
      "cell_type": "markdown",
      "metadata": {
        "id": "lnq9Hzo1Po6X"
      },
      "source": [
        "## Next steps\n",
        "\n",
        "This tutorial demonstrated how to implement the actor-critic method using Tensorflow.\n",
        "\n",
        "As a next step, you could try training a model on a different environment in OpenAI Gym. \n",
        "\n",
        "For additional information regarding actor-critic methods and the Cartpole-v0 problem, you may refer to the following resources:\n",
        "\n",
        "- [Actor Critic Method](https://hal.inria.fr/hal-00840470/document)\n",
        "- [Actor Critic Lecture (CAL)](https://www.youtube.com/watch?v=EKqxumCuAAY&list=PLkFD6_40KJIwhWJpGazJ9VSj9CFMkb79A&index=7&t=0s)\n",
        "- [Cartpole learning control problem \\[Barto, et al. 1983\\]](http://www.derongliu.org/adp/adp-cdrom/Barto1983.pdf) \n",
        "\n",
        "For more reinforcement learning examples in TensorFlow, you can check the following resources:\n",
        "- [Reinforcement learning code examples (keras.io)](https://keras.io/examples/rl/)\n",
        "- [TF-Agents reinforcement learning library](https://www.tensorflow.org/agents)\n"
      ]
    }
  ],
  "metadata": {
    "colab": {
      "collapsed_sections": [
        "_jQ1tEQCxwRx"
      ],
      "name": "actor_critic.ipynb",
      "toc_visible": true,
      "provenance": [],
      "include_colab_link": true
    },
    "kernelspec": {
      "display_name": "Python 3",
      "name": "python3"
    },
    "accelerator": "GPU"
  },
  "nbformat": 4,
  "nbformat_minor": 0
}